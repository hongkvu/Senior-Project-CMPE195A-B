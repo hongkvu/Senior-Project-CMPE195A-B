{
  "cells": [
    {
      "cell_type": "markdown",
      "metadata": {
        "id": "view-in-github",
        "colab_type": "text"
      },
      "source": [
        "<a href=\"https://colab.research.google.com/github/hongkvu/Senior-Project-CMPE195A-B/blob/main/senior_project.ipynb\" target=\"_parent\"><img src=\"https://colab.research.google.com/assets/colab-badge.svg\" alt=\"Open In Colab\"/></a>"
      ]
    },
    {
      "cell_type": "code",
      "execution_count": 1,
      "metadata": {
        "colab": {
          "base_uri": "https://localhost:8080/"
        },
        "id": "jrWxbd3scK4y",
        "outputId": "22411bae-644d-4425-ea7f-93ee474c5c79"
      },
      "outputs": [
        {
          "output_type": "stream",
          "name": "stdout",
          "text": [
            "Thu Sep 29 01:28:20 2022       \n",
            "+-----------------------------------------------------------------------------+\n",
            "| NVIDIA-SMI 460.32.03    Driver Version: 460.32.03    CUDA Version: 11.2     |\n",
            "|-------------------------------+----------------------+----------------------+\n",
            "| GPU  Name        Persistence-M| Bus-Id        Disp.A | Volatile Uncorr. ECC |\n",
            "| Fan  Temp  Perf  Pwr:Usage/Cap|         Memory-Usage | GPU-Util  Compute M. |\n",
            "|                               |                      |               MIG M. |\n",
            "|===============================+======================+======================|\n",
            "|   0  Tesla T4            Off  | 00000000:00:04.0 Off |                    0 |\n",
            "| N/A   38C    P8     9W /  70W |      0MiB / 15109MiB |      0%      Default |\n",
            "|                               |                      |                  N/A |\n",
            "+-------------------------------+----------------------+----------------------+\n",
            "                                                                               \n",
            "+-----------------------------------------------------------------------------+\n",
            "| Processes:                                                                  |\n",
            "|  GPU   GI   CI        PID   Type   Process name                  GPU Memory |\n",
            "|        ID   ID                                                   Usage      |\n",
            "|=============================================================================|\n",
            "|  No running processes found                                                 |\n",
            "+-----------------------------------------------------------------------------+\n"
          ]
        }
      ],
      "source": [
        "!nvidia-smi"
      ]
    },
    {
      "cell_type": "code",
      "execution_count": 2,
      "metadata": {
        "colab": {
          "base_uri": "https://localhost:8080/"
        },
        "id": "Naaamk5SqFbw",
        "outputId": "96736bc3-6c80-46b4-a85d-6fd727aa2a6a"
      },
      "outputs": [
        {
          "output_type": "stream",
          "name": "stdout",
          "text": [
            "Mounted at /content/drive\n"
          ]
        }
      ],
      "source": [
        "from google.colab import drive\n",
        "drive.mount('/content/drive')"
      ]
    },
    {
      "cell_type": "code",
      "execution_count": 3,
      "metadata": {
        "colab": {
          "base_uri": "https://localhost:8080/"
        },
        "id": "JxCZqgQ9ciC9",
        "outputId": "11b0003d-c267-4341-eeef-e93f43474140"
      },
      "outputs": [
        {
          "output_type": "stream",
          "name": "stdout",
          "text": [
            "Looking in indexes: https://pypi.org/simple, https://us-python.pkg.dev/colab-wheels/public/simple/\n",
            "Collecting tensorflow-gpu\n",
            "  Downloading tensorflow_gpu-2.10.0-cp37-cp37m-manylinux_2_17_x86_64.manylinux2014_x86_64.whl (578.0 MB)\n",
            "\u001b[K     |████████████████████████████████| 578.0 MB 17 kB/s \n",
            "\u001b[?25hRequirement already satisfied: packaging in /usr/local/lib/python3.7/dist-packages (from tensorflow-gpu) (21.3)\n",
            "Requirement already satisfied: astunparse>=1.6.0 in /usr/local/lib/python3.7/dist-packages (from tensorflow-gpu) (1.6.3)\n",
            "Collecting tensorflow-estimator<2.11,>=2.10.0\n",
            "  Downloading tensorflow_estimator-2.10.0-py2.py3-none-any.whl (438 kB)\n",
            "\u001b[K     |████████████████████████████████| 438 kB 65.4 MB/s \n",
            "\u001b[?25hCollecting tensorboard<2.11,>=2.10\n",
            "  Downloading tensorboard-2.10.1-py3-none-any.whl (5.9 MB)\n",
            "\u001b[K     |████████████████████████████████| 5.9 MB 41.1 MB/s \n",
            "\u001b[?25hRequirement already satisfied: opt-einsum>=2.3.2 in /usr/local/lib/python3.7/dist-packages (from tensorflow-gpu) (3.3.0)\n",
            "Requirement already satisfied: protobuf<3.20,>=3.9.2 in /usr/local/lib/python3.7/dist-packages (from tensorflow-gpu) (3.17.3)\n",
            "Requirement already satisfied: numpy>=1.20 in /usr/local/lib/python3.7/dist-packages (from tensorflow-gpu) (1.21.6)\n",
            "Requirement already satisfied: keras-preprocessing>=1.1.1 in /usr/local/lib/python3.7/dist-packages (from tensorflow-gpu) (1.1.2)\n",
            "Collecting gast<=0.4.0,>=0.2.1\n",
            "  Downloading gast-0.4.0-py3-none-any.whl (9.8 kB)\n",
            "Requirement already satisfied: grpcio<2.0,>=1.24.3 in /usr/local/lib/python3.7/dist-packages (from tensorflow-gpu) (1.48.1)\n",
            "Requirement already satisfied: h5py>=2.9.0 in /usr/local/lib/python3.7/dist-packages (from tensorflow-gpu) (3.1.0)\n",
            "Requirement already satisfied: wrapt>=1.11.0 in /usr/local/lib/python3.7/dist-packages (from tensorflow-gpu) (1.14.1)\n",
            "Requirement already satisfied: libclang>=13.0.0 in /usr/local/lib/python3.7/dist-packages (from tensorflow-gpu) (14.0.6)\n",
            "Requirement already satisfied: flatbuffers>=2.0 in /usr/local/lib/python3.7/dist-packages (from tensorflow-gpu) (2.0.7)\n",
            "Requirement already satisfied: google-pasta>=0.1.1 in /usr/local/lib/python3.7/dist-packages (from tensorflow-gpu) (0.2.0)\n",
            "Requirement already satisfied: typing-extensions>=3.6.6 in /usr/local/lib/python3.7/dist-packages (from tensorflow-gpu) (4.1.1)\n",
            "Requirement already satisfied: setuptools in /usr/local/lib/python3.7/dist-packages (from tensorflow-gpu) (57.4.0)\n",
            "Requirement already satisfied: tensorflow-io-gcs-filesystem>=0.23.1 in /usr/local/lib/python3.7/dist-packages (from tensorflow-gpu) (0.26.0)\n",
            "Collecting keras<2.11,>=2.10.0\n",
            "  Downloading keras-2.10.0-py2.py3-none-any.whl (1.7 MB)\n",
            "\u001b[K     |████████████████████████████████| 1.7 MB 46.8 MB/s \n",
            "\u001b[?25hRequirement already satisfied: six>=1.12.0 in /usr/local/lib/python3.7/dist-packages (from tensorflow-gpu) (1.15.0)\n",
            "Requirement already satisfied: termcolor>=1.1.0 in /usr/local/lib/python3.7/dist-packages (from tensorflow-gpu) (1.1.0)\n",
            "Requirement already satisfied: absl-py>=1.0.0 in /usr/local/lib/python3.7/dist-packages (from tensorflow-gpu) (1.2.0)\n",
            "Requirement already satisfied: wheel<1.0,>=0.23.0 in /usr/local/lib/python3.7/dist-packages (from astunparse>=1.6.0->tensorflow-gpu) (0.37.1)\n",
            "Requirement already satisfied: cached-property in /usr/local/lib/python3.7/dist-packages (from h5py>=2.9.0->tensorflow-gpu) (1.5.2)\n",
            "Requirement already satisfied: markdown>=2.6.8 in /usr/local/lib/python3.7/dist-packages (from tensorboard<2.11,>=2.10->tensorflow-gpu) (3.4.1)\n",
            "Requirement already satisfied: requests<3,>=2.21.0 in /usr/local/lib/python3.7/dist-packages (from tensorboard<2.11,>=2.10->tensorflow-gpu) (2.23.0)\n",
            "Requirement already satisfied: google-auth<3,>=1.6.3 in /usr/local/lib/python3.7/dist-packages (from tensorboard<2.11,>=2.10->tensorflow-gpu) (1.35.0)\n",
            "Requirement already satisfied: tensorboard-data-server<0.7.0,>=0.6.0 in /usr/local/lib/python3.7/dist-packages (from tensorboard<2.11,>=2.10->tensorflow-gpu) (0.6.1)\n",
            "Requirement already satisfied: tensorboard-plugin-wit>=1.6.0 in /usr/local/lib/python3.7/dist-packages (from tensorboard<2.11,>=2.10->tensorflow-gpu) (1.8.1)\n",
            "Requirement already satisfied: werkzeug>=1.0.1 in /usr/local/lib/python3.7/dist-packages (from tensorboard<2.11,>=2.10->tensorflow-gpu) (1.0.1)\n",
            "Requirement already satisfied: google-auth-oauthlib<0.5,>=0.4.1 in /usr/local/lib/python3.7/dist-packages (from tensorboard<2.11,>=2.10->tensorflow-gpu) (0.4.6)\n",
            "Requirement already satisfied: cachetools<5.0,>=2.0.0 in /usr/local/lib/python3.7/dist-packages (from google-auth<3,>=1.6.3->tensorboard<2.11,>=2.10->tensorflow-gpu) (4.2.4)\n",
            "Requirement already satisfied: rsa<5,>=3.1.4 in /usr/local/lib/python3.7/dist-packages (from google-auth<3,>=1.6.3->tensorboard<2.11,>=2.10->tensorflow-gpu) (4.9)\n",
            "Requirement already satisfied: pyasn1-modules>=0.2.1 in /usr/local/lib/python3.7/dist-packages (from google-auth<3,>=1.6.3->tensorboard<2.11,>=2.10->tensorflow-gpu) (0.2.8)\n",
            "Requirement already satisfied: requests-oauthlib>=0.7.0 in /usr/local/lib/python3.7/dist-packages (from google-auth-oauthlib<0.5,>=0.4.1->tensorboard<2.11,>=2.10->tensorflow-gpu) (1.3.1)\n",
            "Requirement already satisfied: importlib-metadata>=4.4 in /usr/local/lib/python3.7/dist-packages (from markdown>=2.6.8->tensorboard<2.11,>=2.10->tensorflow-gpu) (4.12.0)\n",
            "Requirement already satisfied: zipp>=0.5 in /usr/local/lib/python3.7/dist-packages (from importlib-metadata>=4.4->markdown>=2.6.8->tensorboard<2.11,>=2.10->tensorflow-gpu) (3.8.1)\n",
            "Requirement already satisfied: pyasn1<0.5.0,>=0.4.6 in /usr/local/lib/python3.7/dist-packages (from pyasn1-modules>=0.2.1->google-auth<3,>=1.6.3->tensorboard<2.11,>=2.10->tensorflow-gpu) (0.4.8)\n",
            "Requirement already satisfied: chardet<4,>=3.0.2 in /usr/local/lib/python3.7/dist-packages (from requests<3,>=2.21.0->tensorboard<2.11,>=2.10->tensorflow-gpu) (3.0.4)\n",
            "Requirement already satisfied: urllib3!=1.25.0,!=1.25.1,<1.26,>=1.21.1 in /usr/local/lib/python3.7/dist-packages (from requests<3,>=2.21.0->tensorboard<2.11,>=2.10->tensorflow-gpu) (1.24.3)\n",
            "Requirement already satisfied: idna<3,>=2.5 in /usr/local/lib/python3.7/dist-packages (from requests<3,>=2.21.0->tensorboard<2.11,>=2.10->tensorflow-gpu) (2.10)\n",
            "Requirement already satisfied: certifi>=2017.4.17 in /usr/local/lib/python3.7/dist-packages (from requests<3,>=2.21.0->tensorboard<2.11,>=2.10->tensorflow-gpu) (2022.6.15)\n",
            "Requirement already satisfied: oauthlib>=3.0.0 in /usr/local/lib/python3.7/dist-packages (from requests-oauthlib>=0.7.0->google-auth-oauthlib<0.5,>=0.4.1->tensorboard<2.11,>=2.10->tensorflow-gpu) (3.2.0)\n",
            "Requirement already satisfied: pyparsing!=3.0.5,>=2.0.2 in /usr/local/lib/python3.7/dist-packages (from packaging->tensorflow-gpu) (3.0.9)\n",
            "Installing collected packages: tensorflow-estimator, tensorboard, keras, gast, tensorflow-gpu\n",
            "  Attempting uninstall: tensorflow-estimator\n",
            "    Found existing installation: tensorflow-estimator 2.8.0\n",
            "    Uninstalling tensorflow-estimator-2.8.0:\n",
            "      Successfully uninstalled tensorflow-estimator-2.8.0\n",
            "  Attempting uninstall: tensorboard\n",
            "    Found existing installation: tensorboard 2.8.0\n",
            "    Uninstalling tensorboard-2.8.0:\n",
            "      Successfully uninstalled tensorboard-2.8.0\n",
            "  Attempting uninstall: keras\n",
            "    Found existing installation: keras 2.8.0\n",
            "    Uninstalling keras-2.8.0:\n",
            "      Successfully uninstalled keras-2.8.0\n",
            "  Attempting uninstall: gast\n",
            "    Found existing installation: gast 0.5.3\n",
            "    Uninstalling gast-0.5.3:\n",
            "      Successfully uninstalled gast-0.5.3\n",
            "\u001b[31mERROR: pip's dependency resolver does not currently take into account all the packages that are installed. This behaviour is the source of the following dependency conflicts.\n",
            "tensorflow 2.8.2+zzzcolab20220719082949 requires keras<2.9,>=2.8.0rc0, but you have keras 2.10.0 which is incompatible.\n",
            "tensorflow 2.8.2+zzzcolab20220719082949 requires tensorboard<2.9,>=2.8, but you have tensorboard 2.10.1 which is incompatible.\n",
            "tensorflow 2.8.2+zzzcolab20220719082949 requires tensorflow-estimator<2.9,>=2.8, but you have tensorflow-estimator 2.10.0 which is incompatible.\u001b[0m\n",
            "Successfully installed gast-0.4.0 keras-2.10.0 tensorboard-2.10.1 tensorflow-estimator-2.10.0 tensorflow-gpu-2.10.0\n",
            "Looking in indexes: https://pypi.org/simple, https://us-python.pkg.dev/colab-wheels/public/simple/\n",
            "Collecting einops\n",
            "  Downloading einops-0.4.1-py3-none-any.whl (28 kB)\n",
            "Installing collected packages: einops\n",
            "Successfully installed einops-0.4.1\n",
            "Looking in indexes: https://pypi.org/simple, https://us-python.pkg.dev/colab-wheels/public/simple/\n",
            "Looking in links: https://download.pytorch.org/whl/torch_stable.html\n",
            "\u001b[31mERROR: Could not find a version that satisfies the requirement torch==1.12.1+cu111 (from versions: 0.4.1, 0.4.1.post2, 1.0.0, 1.0.1, 1.0.1.post2, 1.1.0, 1.2.0, 1.2.0+cpu, 1.2.0+cu92, 1.3.0, 1.3.0+cpu, 1.3.0+cu100, 1.3.0+cu92, 1.3.1, 1.3.1+cpu, 1.3.1+cu100, 1.3.1+cu92, 1.4.0, 1.4.0+cpu, 1.4.0+cu100, 1.4.0+cu92, 1.5.0, 1.5.0+cpu, 1.5.0+cu101, 1.5.0+cu92, 1.5.1, 1.5.1+cpu, 1.5.1+cu101, 1.5.1+cu92, 1.6.0, 1.6.0+cpu, 1.6.0+cu101, 1.6.0+cu92, 1.7.0, 1.7.0+cpu, 1.7.0+cu101, 1.7.0+cu110, 1.7.0+cu92, 1.7.1, 1.7.1+cpu, 1.7.1+cu101, 1.7.1+cu110, 1.7.1+cu92, 1.7.1+rocm3.7, 1.7.1+rocm3.8, 1.8.0, 1.8.0+cpu, 1.8.0+cu101, 1.8.0+cu111, 1.8.0+rocm3.10, 1.8.0+rocm4.0.1, 1.8.1, 1.8.1+cpu, 1.8.1+cu101, 1.8.1+cu102, 1.8.1+cu111, 1.8.1+rocm3.10, 1.8.1+rocm4.0.1, 1.9.0, 1.9.0+cpu, 1.9.0+cu102, 1.9.0+cu111, 1.9.0+rocm4.0.1, 1.9.0+rocm4.1, 1.9.0+rocm4.2, 1.9.1, 1.9.1+cpu, 1.9.1+cu102, 1.9.1+cu111, 1.9.1+rocm4.0.1, 1.9.1+rocm4.1, 1.9.1+rocm4.2, 1.10.0, 1.10.0+cpu, 1.10.0+cu102, 1.10.0+cu111, 1.10.0+cu113, 1.10.0+rocm4.0.1, 1.10.0+rocm4.1, 1.10.0+rocm4.2, 1.10.1, 1.10.1+cpu, 1.10.1+cu102, 1.10.1+cu111, 1.10.1+cu113, 1.10.1+rocm4.0.1, 1.10.1+rocm4.1, 1.10.1+rocm4.2, 1.10.2, 1.10.2+cpu, 1.10.2+cu102, 1.10.2+cu111, 1.10.2+cu113, 1.10.2+rocm4.0.1, 1.10.2+rocm4.1, 1.10.2+rocm4.2, 1.11.0, 1.11.0+cpu, 1.11.0+cu102, 1.11.0+cu113, 1.11.0+cu115, 1.11.0+rocm4.3.1, 1.11.0+rocm4.5.2, 1.12.0, 1.12.0+cpu, 1.12.0+cu102, 1.12.0+cu113, 1.12.0+cu116, 1.12.0+rocm5.0, 1.12.0+rocm5.1.1, 1.12.1, 1.12.1+cpu, 1.12.1+cu102, 1.12.1+cu113, 1.12.1+cu116, 1.12.1+rocm5.0, 1.12.1+rocm5.1.1)\u001b[0m\n",
            "\u001b[31mERROR: No matching distribution found for torch==1.12.1+cu111\u001b[0m\n"
          ]
        }
      ],
      "source": [
        "!pip install tensorflow-gpu\n",
        "!pip install einops\n",
        "!pip install torch==1.12.1+cu111 torchvision==0.9.0+cu111 torchaudio==0.8.0 -f https://download.pytorch.org/whl/torch_stable.html\n"
      ]
    },
    {
      "cell_type": "markdown",
      "metadata": {
        "id": "pR8TFxtrTOc1"
      },
      "source": [
        "## What is Einops?\n",
        "Einops, an abbreviation of Einstein-Inspired Notation for operations is an open-source python framework for writing deep learning code in a new and better way. Einops provides us with new notation & new operations. It is  a flexible and powerful tool to ensure code readability and reliability with minimalist yet powerful API.\n",
        "\n",
        "Supports numpy, pytorch, tensorflow, jax, and others.\n",
        "\n",
        "Source: https://analyticsindiamag.com/reinventing-deep-learning-operation-via-einops/\n",
        "##Example:\n",
        "from einops import rearrange, reduce, repeat\n",
        "### Rearrange elements according to the pattern\n",
        "- output_tensor = rearrange(input_tensor, 't b c -> b c t')\n",
        "\n",
        "### Combine rearrangement and reduction\n",
        "- output_tensor = reduce(input_tensor, 'b c (h h2) (w w2) -> b h w c', 'mean', h2=2, w2=2)\n",
        "\n",
        "### Copy along a new axis \n",
        "- output_tensor = repeat(input_tensor, 'h w -> h w c', c=3)\n",
        "\n",
        "### Example given for einops, but code in other frameworks is almost identical  \n",
        "````\n",
        "from torch.nn import Sequential, Conv2d, MaxPool2d, Linear, ReLU\n",
        "from einops.layers.torch import Rearrange\n",
        "\n",
        "model = Sequential(\n",
        "    Conv2d(3, 6, kernel_size=5),\n",
        "    MaxPool2d(kernel_size=2),\n",
        "    Conv2d(6, 16, kernel_size=5),\n",
        "    MaxPool2d(kernel_size=2),\n",
        "    # flattening\n",
        "    Rearrange('b c h w -> b (c h w)'),  \n",
        "    Linear(16*5*5, 120), \n",
        "    ReLU(),\n",
        "    Linear(120, 10), \n",
        ")\n",
        "````\n",
        "\n"
      ]
    },
    {
      "cell_type": "markdown",
      "metadata": {
        "id": "vicqxW7wnfwX"
      },
      "source": [
        "CoAtNet src code\n"
      ]
    },
    {
      "cell_type": "code",
      "execution_count": 4,
      "metadata": {
        "id": "xRoadqXyOFlI",
        "colab": {
          "base_uri": "https://localhost:8080/"
        },
        "outputId": "0b55cfd7-4a6e-46c0-8717-52d23dfd8829"
      },
      "outputs": [
        {
          "output_type": "stream",
          "name": "stderr",
          "text": [
            "/usr/local/lib/python3.7/dist-packages/torch/functional.py:478: UserWarning: torch.meshgrid: in an upcoming release, it will be required to pass the indexing argument. (Triggered internally at  ../aten/src/ATen/native/TensorShape.cpp:2894.)\n",
            "  return _VF.meshgrid(tensors, **kwargs)  # type: ignore[attr-defined]\n"
          ]
        },
        {
          "output_type": "stream",
          "name": "stdout",
          "text": [
            "torch.Size([1, 1000]) 17789624\n",
            "torch.Size([1, 1000]) 33170624\n",
            "torch.Size([1, 1000]) 55767564\n",
            "torch.Size([1, 1000]) 117724480\n",
            "torch.Size([1, 1000]) 203960368\n"
          ]
        }
      ],
      "source": [
        "import torch\n",
        "import torch.nn as nn\n",
        "\n",
        "from einops import rearrange\n",
        "from einops.layers.torch import Rearrange\n",
        "\n",
        "# \tnn.Conv2d : Applies a 2D convolution over an input signal composed of several input planes.\n",
        "\n",
        "def conv_3x3_bn(inp, oup, image_size, downsample=False):\n",
        "    stride = 1 if downsample == False else 2\n",
        "    return nn.Sequential(\n",
        "        nn.Conv2d(inp, oup, 3, stride, 1, bias=False),\n",
        "        nn.BatchNorm2d(oup),\n",
        "        nn.GELU()\n",
        "    )\n",
        "\n",
        "\n",
        "class PreNorm(nn.Module):\n",
        "    def __init__(self, dim, fn, norm):\n",
        "        super().__init__()\n",
        "        self.norm = norm(dim)\n",
        "        self.fn = fn\n",
        "\n",
        "    def forward(self, x, **kwargs):\n",
        "        return self.fn(self.norm(x), **kwargs)\n",
        "\n",
        "\n",
        "class SE(nn.Module):\n",
        "    def __init__(self, inp, oup, expansion=0.25):\n",
        "        super().__init__()\n",
        "        self.avg_pool = nn.AdaptiveAvgPool2d(1)\n",
        "        self.fc = nn.Sequential(\n",
        "            nn.Linear(oup, int(inp * expansion), bias=False),#applies a linear transformation\n",
        "            nn.GELU(),#applies the Gaussian Error Linear Units function\n",
        "            nn.Linear(int(inp * expansion), oup, bias=False),\n",
        "            nn.Sigmoid()\n",
        "        )\n",
        "\n",
        "    def forward(self, x):\n",
        "        b, c, _, _ = x.size()\n",
        "        y = self.avg_pool(x).view(b, c)\n",
        "        y = self.fc(y).view(b, c, 1, 1)\n",
        "        return x * y\n",
        "\n",
        "\n",
        "class FeedForward(nn.Module):\n",
        "    def __init__(self, dim, hidden_dim, dropout=0.):\n",
        "        super().__init__()\n",
        "        self.net = nn.Sequential(\n",
        "            nn.Linear(dim, hidden_dim),\n",
        "            nn.GELU(),\n",
        "            nn.Dropout(dropout),\n",
        "            nn.Linear(hidden_dim, dim),\n",
        "            nn.Dropout(dropout)\n",
        "        )\n",
        "\n",
        "    def forward(self, x):\n",
        "        return self.net(x)\n",
        "\n",
        "\n",
        "class MBConv(nn.Module):\n",
        "    def __init__(self, inp, oup, image_size, downsample=False, expansion=4):\n",
        "        super().__init__()\n",
        "        self.downsample = downsample\n",
        "        stride = 1 if self.downsample == False else 2\n",
        "        hidden_dim = int(inp * expansion)\n",
        "\n",
        "        if self.downsample:\n",
        "            self.pool = nn.MaxPool2d(3, 2, 1)\n",
        "            self.proj = nn.Conv2d(inp, oup, 1, 1, 0, bias=False)\n",
        "\n",
        "        if expansion == 1:\n",
        "            self.conv = nn.Sequential(\n",
        "                # dw\n",
        "                nn.Conv2d(hidden_dim, hidden_dim, 3, stride,\n",
        "                          1, groups=hidden_dim, bias=False),\n",
        "                nn.BatchNorm2d(hidden_dim),\n",
        "                nn.GELU(),\n",
        "                # pw-linear\n",
        "                nn.Conv2d(hidden_dim, oup, 1, 1, 0, bias=False),\n",
        "                nn.BatchNorm2d(oup),\n",
        "            )\n",
        "        else:\n",
        "            self.conv = nn.Sequential(\n",
        "                # pw\n",
        "                # down-sample in the first conv\n",
        "                nn.Conv2d(inp, hidden_dim, 1, stride, 0, bias=False),\n",
        "                nn.BatchNorm2d(hidden_dim),\n",
        "                nn.GELU(),\n",
        "                # dw\n",
        "                nn.Conv2d(hidden_dim, hidden_dim, 3, 1, 1,\n",
        "                          groups=hidden_dim, bias=False),\n",
        "                nn.BatchNorm2d(hidden_dim),\n",
        "                nn.GELU(),\n",
        "                SE(inp, hidden_dim),\n",
        "                # pw-linear\n",
        "                nn.Conv2d(hidden_dim, oup, 1, 1, 0, bias=False),\n",
        "                nn.BatchNorm2d(oup),\n",
        "            )\n",
        "        \n",
        "        self.conv = PreNorm(inp, self.conv, nn.BatchNorm2d)\n",
        "\n",
        "    def forward(self, x):\n",
        "        if self.downsample:\n",
        "            return self.proj(self.pool(x)) + self.conv(x)\n",
        "        else:\n",
        "            return x + self.conv(x)\n",
        "\n",
        "\n",
        "class Attention(nn.Module):\n",
        "    def __init__(self, inp, oup, image_size, heads=8, dim_head=32, dropout=0.):\n",
        "        super().__init__()\n",
        "        inner_dim = dim_head * heads\n",
        "        project_out = not (heads == 1 and dim_head == inp)\n",
        "\n",
        "        self.ih, self.iw = image_size\n",
        "\n",
        "        self.heads = heads\n",
        "        self.scale = dim_head ** -0.5\n",
        "\n",
        "        # parameter table of relative position bias\n",
        "        self.relative_bias_table = nn.Parameter(\n",
        "            torch.zeros((2 * self.ih - 1) * (2 * self.iw - 1), heads))\n",
        "\n",
        "        coords = torch.meshgrid((torch.arange(self.ih), torch.arange(self.iw)))\n",
        "        coords = torch.flatten(torch.stack(coords), 1)\n",
        "        relative_coords = coords[:, :, None] - coords[:, None, :]\n",
        "\n",
        "        relative_coords[0] += self.ih - 1\n",
        "        relative_coords[1] += self.iw - 1\n",
        "        relative_coords[0] *= 2 * self.iw - 1\n",
        "        relative_coords = rearrange(relative_coords, 'c h w -> h w c')\n",
        "        relative_index = relative_coords.sum(-1).flatten().unsqueeze(1)\n",
        "        self.register_buffer(\"relative_index\", relative_index)\n",
        "\n",
        "        self.attend = nn.Softmax(dim=-1)\n",
        "        self.to_qkv = nn.Linear(inp, inner_dim * 3, bias=False)\n",
        "\n",
        "        self.to_out = nn.Sequential(\n",
        "            nn.Linear(inner_dim, oup),\n",
        "            nn.Dropout(dropout)\n",
        "        ) if project_out else nn.Identity()\n",
        "\n",
        "    def forward(self, x):\n",
        "        qkv = self.to_qkv(x).chunk(3, dim=-1)\n",
        "        q, k, v = map(lambda t: rearrange(\n",
        "            t, 'b n (h d) -> b h n d', h=self.heads), qkv)\n",
        "\n",
        "        dots = torch.matmul(q, k.transpose(-1, -2)) * self.scale\n",
        "\n",
        "        # Use \"gather\" for more efficiency on GPUs\n",
        "        relative_bias = self.relative_bias_table.gather(\n",
        "            0, self.relative_index.repeat(1, self.heads))\n",
        "        relative_bias = rearrange(\n",
        "            relative_bias, '(h w) c -> 1 c h w', h=self.ih*self.iw, w=self.ih*self.iw)\n",
        "        dots = dots + relative_bias\n",
        "\n",
        "        attn = self.attend(dots)\n",
        "        out = torch.matmul(attn, v)\n",
        "        out = rearrange(out, 'b h n d -> b n (h d)')\n",
        "        out = self.to_out(out)\n",
        "        return out\n",
        "\n",
        "\n",
        "class Transformer(nn.Module):\n",
        "    def __init__(self, inp, oup, image_size, heads=8, dim_head=32, downsample=False, dropout=0.):\n",
        "        super().__init__()\n",
        "        hidden_dim = int(inp * 4)\n",
        "\n",
        "        self.ih, self.iw = image_size\n",
        "        self.downsample = downsample\n",
        "\n",
        "        if self.downsample:\n",
        "            self.pool1 = nn.MaxPool2d(3, 2, 1)\n",
        "            self.pool2 = nn.MaxPool2d(3, 2, 1)\n",
        "            self.proj = nn.Conv2d(inp, oup, 1, 1, 0, bias=False)\n",
        "\n",
        "        self.attn = Attention(inp, oup, image_size, heads, dim_head, dropout)\n",
        "        self.ff = FeedForward(oup, hidden_dim, dropout)\n",
        "\n",
        "        self.attn = nn.Sequential(\n",
        "            Rearrange('b c ih iw -> b (ih iw) c'),\n",
        "            PreNorm(inp, self.attn, nn.LayerNorm),\n",
        "            Rearrange('b (ih iw) c -> b c ih iw', ih=self.ih, iw=self.iw)\n",
        "        )\n",
        "\n",
        "        self.ff = nn.Sequential(\n",
        "            Rearrange('b c ih iw -> b (ih iw) c'),\n",
        "            PreNorm(oup, self.ff, nn.LayerNorm),\n",
        "            Rearrange('b (ih iw) c -> b c ih iw', ih=self.ih, iw=self.iw)\n",
        "        )\n",
        "\n",
        "    def forward(self, x):\n",
        "        if self.downsample:\n",
        "            x = self.proj(self.pool1(x)) + self.attn(self.pool2(x))\n",
        "        else:\n",
        "            x = x + self.attn(x)\n",
        "        x = x + self.ff(x)\n",
        "        return x\n",
        "\n",
        "\n",
        "class CoAtNet(nn.Module):\n",
        "    def __init__(self, image_size, in_channels, num_blocks, channels, num_classes=1000, block_types=['C', 'C', 'T', 'T']):\n",
        "        super().__init__()\n",
        "        ih, iw = image_size\n",
        "        block = {'C': MBConv, 'T': Transformer}\n",
        "\n",
        "        self.s0 = self._make_layer(\n",
        "            conv_3x3_bn, in_channels, channels[0], num_blocks[0], (ih // 2, iw // 2))\n",
        "        self.s1 = self._make_layer(\n",
        "            block[block_types[0]], channels[0], channels[1], num_blocks[1], (ih // 4, iw // 4))\n",
        "        self.s2 = self._make_layer(\n",
        "            block[block_types[1]], channels[1], channels[2], num_blocks[2], (ih // 8, iw // 8))\n",
        "        self.s3 = self._make_layer(\n",
        "            block[block_types[2]], channels[2], channels[3], num_blocks[3], (ih // 16, iw // 16))\n",
        "        self.s4 = self._make_layer(\n",
        "            block[block_types[3]], channels[3], channels[4], num_blocks[4], (ih // 32, iw // 32))\n",
        "\n",
        "        self.pool = nn.AvgPool2d(ih // 32, 1)\n",
        "        self.fc = nn.Linear(channels[-1], num_classes, bias=False)\n",
        "\n",
        "    def forward(self, x):\n",
        "        x = self.s0(x)\n",
        "        x = self.s1(x)\n",
        "        x = self.s2(x)\n",
        "        x = self.s3(x)\n",
        "        x = self.s4(x)\n",
        "\n",
        "        x = self.pool(x).view(-1, x.shape[1])\n",
        "        x = self.fc(x)\n",
        "        return x\n",
        "\n",
        "    def _make_layer(self, block, inp, oup, depth, image_size):\n",
        "        layers = nn.ModuleList([])\n",
        "        for i in range(depth):\n",
        "            if i == 0:\n",
        "                layers.append(block(inp, oup, image_size, downsample=True))\n",
        "            else:\n",
        "                layers.append(block(oup, oup, image_size))\n",
        "        return nn.Sequential(*layers)\n",
        "\n",
        "\n",
        "def coatnet_0():\n",
        "    num_blocks = [2, 2, 3, 5, 2]            # L\n",
        "    channels = [64, 96, 192, 384, 768]      # D\n",
        "    return CoAtNet((224, 224), 3, num_blocks, channels, num_classes=1000)\n",
        "\n",
        "\n",
        "def coatnet_1():\n",
        "    num_blocks = [2, 2, 6, 14, 2]           # L\n",
        "    channels = [64, 96, 192, 384, 768]      # D\n",
        "    return CoAtNet((224, 224), 3, num_blocks, channels, num_classes=1000)\n",
        "\n",
        "\n",
        "def coatnet_2():\n",
        "    num_blocks = [2, 2, 6, 14, 2]           # L\n",
        "    channels = [128, 128, 256, 512, 1026]   # D\n",
        "    return CoAtNet((224, 224), 3, num_blocks, channels, num_classes=1000)\n",
        "\n",
        "\n",
        "def coatnet_3():\n",
        "    num_blocks = [2, 2, 6, 14, 2]           # L\n",
        "    channels = [192, 192, 384, 768, 1536]   # D\n",
        "    return CoAtNet((224, 224), 3, num_blocks, channels, num_classes=1000)\n",
        "\n",
        "\n",
        "def coatnet_4():\n",
        "    num_blocks = [2, 2, 12, 28, 2]          # L\n",
        "    channels = [192, 192, 384, 768, 1536]   # D\n",
        "    return CoAtNet((224, 224), 3, num_blocks, channels, num_classes=1000)\n",
        "\n",
        "\n",
        "#PyTorch doesn't have a function to calculate the total number of parameters as Keras does, \n",
        "#but it's possible to sum the number of elements for every parameter group\n",
        "#trainable parameters\n",
        "def count_parameters(model):\n",
        "    return sum(p.numel() for p in model.parameters() if p.requires_grad)\n",
        "\n",
        "\n",
        "if __name__ == '__main__':\n",
        "    img = torch.randn(1, 3, 224, 224)\n",
        "\n",
        "    net = coatnet_0()\n",
        "    out = net(img)\n",
        "    print(out.shape, count_parameters(net))\n",
        "\n",
        "    net = coatnet_1()\n",
        "    out = net(img)\n",
        "    print(out.shape, count_parameters(net))\n",
        "\n",
        "    net = coatnet_2()\n",
        "    out = net(img)\n",
        "    print(out.shape, count_parameters(net))\n",
        "\n",
        "    net = coatnet_3()\n",
        "    out = net(img)\n",
        "    print(out.shape, count_parameters(net))\n",
        "\n",
        "    net = coatnet_4()\n",
        "    out = net(img)\n",
        "    print(out.shape, count_parameters(net))"
      ]
    },
    {
      "cell_type": "markdown",
      "metadata": {
        "id": "RDExYK-ugMyv"
      },
      "source": [
        "Pytorch"
      ]
    },
    {
      "cell_type": "markdown",
      "metadata": {
        "id": "G4JMZx37gRvV"
      },
      "source": [
        "Pytorch is an open source machine learning framework that accelerates the path from research prototyping to production deployment."
      ]
    },
    {
      "cell_type": "markdown",
      "metadata": {
        "id": "gS_TSaeThTLV"
      },
      "source": [
        "- Pytorch.nn: The nn package defines a set of Modules, which you can think of as a neural network layer that has produces output from input and may have some trainable weights.\n",
        "  - nn documents: https://pytorch.org/docs/stable/nn.html\n",
        "  - Container \n",
        "    - nn.Module: Base class for all neural network modules.\n",
        "      - Example: \n",
        "            class Model(nn.Module):\n",
        "              def __init__(self):\n",
        "              super().__init__()\n",
        "              self.conv1 = nn.Conv2d(1, 20, 5)\n",
        "              self.conv2 = nn.Conv2d(20, 20, 5)\n",
        "      - Modules can also contain other Modules, allowing to nest them in a tree structure: \n",
        "            module (Module) – child module to be added to the module\n",
        "    - nn.Sequential: A sequential container.\n",
        "      - Class torch.nn.Sequential(*args) \n",
        "      - Modules will be added to it in the order they are passed in the constructor. It accepts any input and forwards it to the first module it contains. It then “chains” outputs to inputs sequentially for each subsequent module, finally returning the output of the last module.\n",
        "      - Example: \n",
        "            model = nn.Sequential(\n",
        "                      nn.Conv2d(1,20,5),\n",
        "                      nn.ReLU(),\n",
        "                      nn.Conv2d(20,64,5),\n",
        "                      nn.ReLU()\n",
        "                    )\n",
        "      -> Run `model`: input will first be passed to `Conv2d(1,20,5)` -> output of `Conv2d(1,20,5)` is used as input to the first `ReLU` -> output of the first `ReLU` becomes input for `Conv2d(20,64,5)` -> output of `Conv2d(20,64,5)` is used as input to the second `ReLU`.\n",
        "  - Convolution Layers (https://github.com/vdumoulin/conv_arithmetic/blob/master/README.md)\n",
        "    - nn.Conv2d: Applies a 2D convolution over an input signal composed of several input planes.\n",
        "    - Constructor: torch.nn.Conv2d(in_channels, out_channels, kernel_size, stride=1, padding=0, dilation=1, groups=1, bias=True, padding_mode='zeros', device=None, dtype=None)\n",
        "      - stride: stride for the cross-correlation, a single number or a tuple.\n",
        "      - padding: amount of padding applied to the input. \n",
        "      - dilation: spacing between the kernel points.\n",
        "      - groups: connections between inputs and outputs.\n",
        "        - 1: all inputs are convolved to all outputs.\n",
        "        - 2: the operation becomes equivalent to having two conv layers side by side, each seeing half the input channels and producing half the output channels, and both subsequently concatenated.\n",
        "        - in_channels: each input channel is convolved with its own set of filters  \n",
        "  - Non-linear Activations\n",
        "    - nn.ReLU: Applies the rectified linear unit function element-wise: \n",
        "            ReLU(x) = (x)+ = max(0,x)\n",
        "      - Constructor: CLASStorch.nn.ReLU(inplace=False)\n",
        "        - inplace – can optionally do the operation in-place. Default: False\n",
        "  - Normalization Layers\n",
        "    - nn.BatchNorm2d: Applies Batch Normalization over a 4D input (a mini-batch of 2D inputs with additional channel dimension).\n",
        "    - Constructor: CLASS torch.nn.BatchNorm2d(num_features, eps=1e-05, momentum=0.1, affine=True, track_running_stats=True, device=None, dtype=None)\n",
        "      - num_features – CC from an expected input of size (N, C, H, W)(N,C,H,W)\n",
        "      - eps – a value added to the denominator for numerical stability.\n",
        "        - Default: 1e-5\n",
        "      - momentum – the value used for the running_mean and running_var computation. \n",
        "        - None for cumulative moving average \n",
        "        - Default: 0.1\n",
        "      - affine – a boolean value. \n",
        "        - True: this module has learnable affine parameters. Default: True\n",
        "      - track_running_stats – a boolean value. Default: True\n",
        "        - True: this module tracks the running mean and variance,\n",
        "        - False: this module does not track such statistics \n",
        "    - read: https://arxiv.org/abs/1502.03167\n"
      ]
    },
    {
      "cell_type": "markdown",
      "metadata": {
        "id": "c0Z5iSSDiYwF"
      },
      "source": [
        "- torch.randn (*size, *, out=None, dtype=None, layout=torch.strided, device=None, requires_grad=False)\n",
        "  - Returns a tensor filled with random numbers from a normal distribution with mean 0 and variance 1 (standard normal distribution).\n",
        "  - Parameters\n",
        "    - size - sequence of integers defining the size of the output tensor. Can be a variable number of arguments or a collection like a list or tuple.\n",
        "    - out (Tensor, optional) – the output tensor.\n",
        "    - dtype (torch.dtype, optional) – the desired data type of returned tensor. \n",
        "      - Default: None - uses a global default.\n",
        "    - layout (torch.layout, optional) – the desired layout of returned Tensor. \n",
        "      - Default: torch.strided.\n",
        "    - device (torch.device, optional) \n",
        "      - the desired device of returned tensor. \n",
        "      - Default: None - uses the current device for the default tensor type. device will be the CPU for CPU tensor types and the current CUDA device for CUDA tensor types.\n",
        "    - requires_grad (bool, optional) – If autograd should record operations on the returned tensor. Default: False."
      ]
    },
    {
      "cell_type": "code",
      "execution_count": 5,
      "metadata": {
        "colab": {
          "base_uri": "https://localhost:8080/"
        },
        "id": "8UvN2ZKQgGLl",
        "outputId": "cab767e4-3920-442a-97f0-04f3f2622686"
      },
      "outputs": [
        {
          "output_type": "stream",
          "name": "stdout",
          "text": [
            "tensor([[[[ 4.1474e-01, -5.4115e-01, -4.0207e-01,  ...,  9.0283e-01,\n",
            "            4.5019e-01,  2.1584e-01],\n",
            "          [-1.8469e+00,  1.0895e+00, -1.2378e+00,  ..., -6.1383e-01,\n",
            "           -4.9927e-01,  4.2586e-01],\n",
            "          [ 3.1169e-01,  4.2463e-01,  2.2833e-01,  ...,  1.0782e+00,\n",
            "            1.8675e-01, -6.1105e-01],\n",
            "          ...,\n",
            "          [ 1.3625e+00,  3.4903e-01, -2.1619e+00,  ..., -1.2440e-01,\n",
            "           -7.0798e-01,  1.3462e+00],\n",
            "          [ 1.7655e-01,  4.4784e-01,  9.4257e-01,  ..., -7.7651e-01,\n",
            "           -2.7580e-01,  1.3367e+00],\n",
            "          [ 4.9487e-01,  1.8177e+00,  6.5454e-01,  ..., -2.5140e+00,\n",
            "            7.0057e-01,  1.3853e+00]],\n",
            "\n",
            "         [[ 9.6116e-01, -3.4481e-02,  1.2129e-01,  ..., -2.4709e+00,\n",
            "            1.0514e+00,  8.4713e-01],\n",
            "          [-8.5804e-01, -7.9041e-01, -1.1488e+00,  ...,  8.1039e-01,\n",
            "            1.5667e+00, -4.5658e-01],\n",
            "          [ 9.3459e-01,  1.5151e+00, -2.5637e+00,  ...,  2.2511e+00,\n",
            "            1.0404e+00,  2.6533e-01],\n",
            "          ...,\n",
            "          [ 3.4804e-01,  2.4009e+00, -3.6738e-01,  ...,  1.2866e-01,\n",
            "            7.6518e-01,  1.9330e+00],\n",
            "          [ 7.8300e-01,  2.0021e+00,  9.8495e-01,  ..., -6.5122e-02,\n",
            "           -3.0261e-01, -6.4371e-01],\n",
            "          [-1.1862e+00,  1.2620e+00, -3.8527e-01,  ...,  9.1053e-01,\n",
            "            9.5250e-05,  1.4538e+00]],\n",
            "\n",
            "         [[ 1.4629e-01, -6.0335e-01, -1.2442e+00,  ..., -9.4788e-01,\n",
            "            2.5621e-01,  2.1134e+00],\n",
            "          [-6.2004e-01, -2.1716e-01, -5.9359e-01,  ..., -7.3267e-01,\n",
            "           -1.4658e+00,  3.2631e-01],\n",
            "          [-2.0813e-01, -2.2459e-01, -1.3943e+00,  ...,  3.5919e-01,\n",
            "           -1.2218e+00,  8.4274e-01],\n",
            "          ...,\n",
            "          [-2.0207e-01, -1.9934e+00, -1.9975e+00,  ...,  1.8498e+00,\n",
            "           -1.0592e+00,  9.6544e-01],\n",
            "          [ 7.0638e-01,  1.2313e+00, -6.9866e-01,  ...,  6.6966e-01,\n",
            "           -9.0362e-01,  6.7575e-01],\n",
            "          [-4.2269e-01,  5.0481e-01,  1.5920e+00,  ..., -1.5186e-01,\n",
            "            5.1935e-01,  1.7583e+00]]]])\n"
          ]
        },
        {
          "output_type": "execute_result",
          "data": {
            "text/plain": [
              "torch.Size([1, 3, 224, 224])"
            ]
          },
          "metadata": {},
          "execution_count": 5
        }
      ],
      "source": [
        "import torch\n",
        "x=torch.randn(1,3,224,224)\n",
        "print(x)\n",
        "x.shape"
      ]
    },
    {
      "cell_type": "code",
      "execution_count": 6,
      "metadata": {
        "id": "KUy1nOI4ES74",
        "colab": {
          "base_uri": "https://localhost:8080/"
        },
        "outputId": "10aa233f-ab02-479c-8587-d1956c525339"
      },
      "outputs": [
        {
          "output_type": "stream",
          "name": "stdout",
          "text": [
            "tensor([[-1.4157,  1.4478,  0.3923,  2.1380],\n",
            "        [-1.6148,  0.2232, -0.2009,  1.6847]])\n"
          ]
        },
        {
          "output_type": "execute_result",
          "data": {
            "text/plain": [
              "torch.Size([2, 4])"
            ]
          },
          "metadata": {},
          "execution_count": 6
        }
      ],
      "source": [
        "import torch\n",
        "x=torch.randn(2,4)\n",
        "print(x)\n",
        "x.shape"
      ]
    },
    {
      "cell_type": "code",
      "execution_count": 7,
      "metadata": {
        "colab": {
          "base_uri": "https://localhost:8080/"
        },
        "id": "NsDCNPO_K8eJ",
        "outputId": "672f4067-02de-4c53-fc5f-d85b6acf276e"
      },
      "outputs": [
        {
          "output_type": "stream",
          "name": "stdout",
          "text": [
            "tensor([[[ 0.7494, -0.1450, -0.0571,  0.9400,  1.0815],\n",
            "         [ 1.7229, -0.1312,  1.3659, -1.2223, -0.4254],\n",
            "         [ 0.4076,  1.4549, -0.3094,  1.0371,  1.5237],\n",
            "         [ 0.2394, -0.5257,  0.4483,  1.1436, -1.5785]],\n",
            "\n",
            "        [[ 0.7856,  0.1980, -1.2041, -0.4733,  0.5593],\n",
            "         [ 0.5625, -0.4170,  0.8954,  0.1018,  1.0803],\n",
            "         [ 0.4709, -0.9274,  0.5917,  0.8355,  0.2299],\n",
            "         [ 0.7795, -0.4035, -0.6363,  0.8812, -1.4709]]])\n"
          ]
        },
        {
          "output_type": "execute_result",
          "data": {
            "text/plain": [
              "torch.Size([2, 4, 5])"
            ]
          },
          "metadata": {},
          "execution_count": 7
        }
      ],
      "source": [
        "import torch\n",
        "x=torch.randn(2,4,5)\n",
        "print(x)\n",
        "x.shape"
      ]
    },
    {
      "cell_type": "markdown",
      "metadata": {
        "id": "MmIsfZytnKXC"
      },
      "source": [
        "\n",
        "\n",
        "```\n",
        "def conv_3x3_bn(inp, oup, image_size, downsample=False): stride = 1 if downsample == False else 2\n",
        "    return nn.Sequential(\n",
        "        nn.Conv2d(inp, oup, 3, stride, 1, bias=False),\n",
        "        nn.BatchNorm2d(oup),\n",
        "        nn.GELU()\n",
        "    )\n",
        "```\n",
        "\n",
        "\n",
        "\n",
        "**nn.Sequential()**\n",
        "\n",
        "Class that allows us to build neural networks on the fly without having to define an explicit class.\n",
        "\n",
        "  **nn.Conv2d(inp, oup, 3, stride, 1, bias=False)**\n",
        "\n",
        "  2D Convolution - We slide a matrix or filter over 2D data (an image turned into a grid of numbers) and perform element-wise multiplication with the data, then sum up the multiplication result to produce an output. We move the filter in strides until we get the final output matrix of the 2D convolution operation.\n",
        "\n",
        "  Channel - The colors(?) that transmit the actual information to the receiver. Usually RGB. The colors in an image are created by a mix of Red, Green, and Blue.\n",
        "\n",
        "  inp = number of channels in the input image. \n",
        "\n",
        "  oup = number of channels produced by the convolution\n",
        "\n",
        "  3 = kernel size (3x3 in this case). Kernel is the filter used to extract the features from the images. The matrix that slides over the 2D data. (In 3D, a filter is a collection of kernels)\n",
        "\n",
        "  stride = how many pixels the kernel will shift over the image.\n",
        "  \n",
        "  bias - is like the *b* parameter in *y = mx + b* -- Helps model fit the training set properly\n",
        "\n",
        "  **nn.BatchNorm2d(oup)** \n",
        "  is needed to normalize the output so the data will be on the same scale. If one feature is too large, this feature will drown out the smaller feature. During gradient descent, the neural network will have to make a large update to one weight compared to the other weight. It can cause the gradient descent trajectory to oscillate back and forth, thus taking more steps to reach the minimum.\n",
        "\n",
        "  **nn.GELU**\n",
        "\n",
        "  Gaussian Error Linear Units function. An activation function like sigmoid and RELU\n",
        "\n",
        "\n",
        "\n",
        "---\n",
        "\n",
        "```\n",
        "class SE(nn.Module):\n",
        "    def __init__(self, inp, oup, expansion=0.25):\n",
        "        super().__init__()\n",
        "        self.avg_pool = nn.AdaptiveAvgPool2d(1)\n",
        "        self.fc = nn.Sequential(\n",
        "            nn.Linear(oup, int(inp * expansion), bias=False),\n",
        "            nn.GELU(),\n",
        "            nn.Linear(int(inp * expansion), oup, bias=False),\n",
        "            nn.Sigmoid()\n",
        "        )\n",
        "```\n",
        "\n",
        "**nn.AdaptiveAvgPool2d(1)**\n",
        "\n",
        "Sets the output size of the pooling layer to the specified size. (1x1 in this case) The stride and kernel-size are automatically selected to get this output size.\n",
        "\n",
        "Pooling compresses and generalizes the features in the feature map.\n",
        "\n",
        "**nn.Linear()**\n",
        "\n",
        "**nn.Sigmoid()**\n",
        "\n",
        "An activation function that takes a value and turns it into a value between 0 and 1 to predict probabilities.\n",
        "  \n",
        "\n",
        "\n"
      ]
    },
    {
      "cell_type": "markdown",
      "metadata": {
        "id": "C3_0uboVgIjK"
      },
      "source": [
        "Import libraries"
      ]
    },
    {
      "cell_type": "code",
      "execution_count": 8,
      "metadata": {
        "id": "4R9urY7HPJFr"
      },
      "outputs": [],
      "source": [
        "#os.environ['CUDA_LAUNCH_BLOCKING'] = \"1\""
      ]
    },
    {
      "cell_type": "code",
      "execution_count": 9,
      "metadata": {
        "id": "wjs9-UoHgMuy"
      },
      "outputs": [],
      "source": [
        "import torch.optim as optim #optimizer, will hold the current state and will update the parameters based on the computed gradients\n",
        "import torch\n",
        "import torch.nn as nn #neural network framework\n",
        "import torch.nn.parallel \n",
        "import torch.utils.data\n",
        "import torch.utils.data.distributed\n",
        "import torchvision.transforms as transforms #common image transformation\n",
        "from torch.autograd import Variable #automatic differentiation"
      ]
    },
    {
      "cell_type": "markdown",
      "metadata": {
        "id": "JTtlySbjuYo1"
      },
      "source": [
        "Set global parameters"
      ]
    },
    {
      "cell_type": "code",
      "execution_count": 10,
      "metadata": {
        "id": "d0-0c34UuT6c"
      },
      "outputs": [],
      "source": [
        "modellr = 1e-4\n",
        "BATCH_SIZE = 16 #the dataset is divided into batches, each of 16 \n",
        "EPOCHS = 50 #number of times the entire dataset is passed through the neural network\n",
        "DEVICE = torch.device('cuda' if torch.cuda.is_available() else 'cpu')#the GPU device that operations will be on"
      ]
    },
    {
      "cell_type": "markdown",
      "metadata": {
        "id": "jSQv_16ouUZJ"
      },
      "source": [
        "Data Preprocessing"
      ]
    },
    {
      "cell_type": "code",
      "execution_count": 11,
      "metadata": {
        "id": "CgakdXjSuUED"
      },
      "outputs": [],
      "source": [
        "#modifying images (resize, convert, normalize)  \n",
        "transform = transforms.Compose([ #chain the transformation together\n",
        "    transforms.Resize((224, 224)), #resize image\n",
        "    transforms.ToTensor(), #convert image to a tensor (matrix)\n",
        "    transforms.Normalize([0.5, 0.5, 0.5], [0.5, 0.5, 0.5]) #normalize with (mean, standard deviation)\n",
        "\n",
        "])\n",
        "transform_test = transforms.Compose([\n",
        "    transforms.Resize((224, 224)),\n",
        "    transforms.ToTensor(),\n",
        "    transforms.Normalize([0.5, 0.5, 0.5], [0.5, 0.5, 0.5])\n",
        "])"
      ]
    },
    {
      "cell_type": "markdown",
      "metadata": {
        "id": "ywyF1Q0gutu7"
      },
      "source": [
        "Fetch the data"
      ]
    },
    {
      "cell_type": "code",
      "execution_count": 12,
      "metadata": {
        "id": "6F6o8vK8heGT"
      },
      "outputs": [],
      "source": [
        "# coding:utf8\n",
        "import os\n",
        "from PIL import Image\n",
        "from torch.utils import data\n",
        "from torchvision import transforms as T\n",
        "from sklearn.model_selection import train_test_split\n",
        " \n",
        "Labels = {'alpine_sea_holly': 0, 'alstroemeria': 1, 'amaranth': 2, 'amaryllis': 3, 'ammi': 4, 'anemone': 5, \n",
        "          'anthurium': 6, 'antirrhinum': 7, 'artichoke': 8, 'asian virginsbower': 9, 'aster': 10,\n",
        "          'astilbe': 11, 'astrantia': 12, 'ball moss': 13, 'ballon flower': 14, 'barbeton daisy': 15,\n",
        "          'bird of paradise': 16, 'black-eye': 17, 'bluebell': 18, 'bougainvillea': 19, 'bouvardia': 20,\n",
        "          'brassica': 21, 'buttercup': 22, 'california poppy': 23, 'calla': 24, 'canna lily': 25,\n",
        "          'carnation': 26, 'celosia': 27, 'chamelaucium': 28, 'chamomile': 29, 'chrysanthemum': 30,\n",
        "          'colts_foot': 31, 'columbine': 32, 'cotton': 33, 'cowslip': 34, 'craspedia': 35,\n",
        "          'crocus': 36, 'cyclamen': 37, 'daffodil': 38, 'dahlia': 39, 'daisy':40,\n",
        "          'dandelion':41, 'delphinium': 42, 'eryngium': 43, 'eustoma': 44, 'forget-me-not': 45,\n",
        "          'foxglove': 46, 'frangipani': 47, 'freesia': 48, 'fritillary': 49, 'garden phlox': 50,\n",
        "          'gerbera': 51, 'gladiolus': 52, 'globe thistle': 53, 'gypsophila': 54, 'hyacinth': 55,\n",
        "          'hydrangea': 56, 'hypericum': 57, 'iris': 58, 'lavender': 59, 'leucadendron': 60,\n",
        "          'leucospermum': 61, 'lilac': 62, 'lily': 63, 'lily_of_the_valley': 64, 'lily_valley': 65,\n",
        "          'limonium': 66, 'lotus': 67, 'love in the mist': 68, 'mattiola': 69, 'mimosa': 70,\n",
        "          'morning glory': 71, 'muscari': 72, 'narcissus': 73, 'nelumbo nucifera': 74, 'orchid': 75,\n",
        "          'ornithogalum': 76, 'oxeye daisy': 77, 'oxypetalum': 78, 'ozotamnus': 79, 'pansy': 80,\n",
        "          'passion flower': 81, 'peony': 82, 'petunia': 83, 'poinsettia': 84, 'protea': 85,\n",
        "          'ranunculus': 86, 'rose': 87, 'sedum': 88, 'silverbush': 89, 'skimmia': 90,\n",
        "          'snowdrop': 91, 'solidago': 92, 'strelitzia': 93, 'sunflower': 94, 'tigerlily': 95,\n",
        "          'trachelium': 96, 'tropical white morning-glory': 97, 'tulip': 98, 'veronica': 99, 'water lily': 100,\n",
        "          'willow': 101, 'windflower': 102}\n",
        "\n",
        "# Labels = {\n",
        "#      'tulip': 0, 'sunflower': 1, 'rose': 2, 'dandelion': 3, 'daisy':4\n",
        "# }\n",
        " \n",
        "class FlowerData (data.Dataset):\n",
        " \n",
        "    def __init__(self, root, transforms=None, train=True, test=False):\n",
        "        \"\"\"\n",
        "        Main objective: to obtain the addresses of all pictures and divide the data according to training, verification and test\n",
        "        \"\"\"\n",
        "        self.test = test\n",
        "        self.transforms = transforms\n",
        " \n",
        "        if self.test:\n",
        "            imgs = [os.path.join(root, img) for img in os.listdir(root)]\n",
        "            self.imgs = imgs\n",
        "        else:\n",
        "            imgs_labels = [os.path.join(root, img) for img in os.listdir(root)]\n",
        "            imgs = []\n",
        "            for imglable in imgs_labels:\n",
        "                for imgname in os.listdir(imglable):\n",
        "                    imgpath = os.path.join(imglable, imgname)\n",
        "                    imgs.append(imgpath)\n",
        "            trainval_files, val_files = train_test_split(imgs, test_size=0.3, random_state=42)\n",
        "            if train:\n",
        "                self.imgs = trainval_files\n",
        "            else:\n",
        "                self.imgs = val_files\n",
        " \n",
        "    def __getitem__(self, index):\n",
        "        \"\"\"\n",
        "        Returns the data of one picture at a time\n",
        "        \"\"\"\n",
        "        img_path = self.imgs[index]\n",
        "        img_path=img_path.replace(\"\\\\\",'/')\n",
        "        if self.test:\n",
        "            label = -1\n",
        "        else:\n",
        "            labelname = img_path.split('/')[-2]\n",
        "            label = Labels[labelname]\n",
        "        data = Image.open(img_path).convert('RGB')\n",
        "        data = self.transforms(data)\n",
        "        return data, label\n",
        " \n",
        "    def __len__(self):\n",
        "        return len(self.imgs)"
      ]
    },
    {
      "cell_type": "code",
      "execution_count": 13,
      "metadata": {
        "id": "G4ZIJhf9u3LS"
      },
      "outputs": [],
      "source": [
        "# Read data\n",
        "# Suggestion: automates image look-up/download from the web\n",
        "dataset_train = FlowerData('drive/My Drive/195A+BSeniorProjectGroupWorks/Datasets/Flower_Dataset/dataset', transforms=transform, train=True)\n",
        "dataset_test = FlowerData('drive/My Drive/195A+BSeniorProjectGroupWorks/Datasets/Flower_Dataset/dataset', transforms=transform_test, train=False)\n",
        "# Import data\n",
        "train_loader = torch.utils.data.DataLoader(dataset_train, batch_size=BATCH_SIZE, shuffle=True)\n",
        "test_loader = torch.utils.data.DataLoader(dataset_test, batch_size=BATCH_SIZE, shuffle=False)"
      ]
    },
    {
      "cell_type": "markdown",
      "metadata": {
        "id": "dnza0JBEu4Mg"
      },
      "source": [
        "Set model"
      ]
    },
    {
      "cell_type": "code",
      "execution_count": 14,
      "metadata": {
        "id": "SwuosvXaqPC_"
      },
      "outputs": [],
      "source": [
        "# Instantiate the model and move to the GPU\n",
        "criterion = nn.CrossEntropyLoss()\n",
        "\n",
        "model_ft = coatnet_0()\n",
        "num_ftrs = model_ft.fc.in_features\n",
        "model_ft.fc = nn.Linear(num_ftrs, 200) #change the 2nd arg according to the number of Labels\n",
        "#TODO: look into why changing this arg fixes the error\n",
        "model_ft.to(DEVICE)#move the model to GPU\n",
        "# Choose the simple and violent Adam optimizer to reduce the learning rate\n",
        "optimizer = optim.Adam(model_ft.parameters(), lr=modellr)\n",
        "cosine_schedule = optim.lr_scheduler.CosineAnnealingLR(optimizer=optimizer,T_max=20,eta_min=1e-9)"
      ]
    },
    {
      "cell_type": "code",
      "execution_count": null,
      "metadata": {
        "colab": {
          "base_uri": "https://localhost:8080/"
        },
        "id": "7slfcWv9qV-A",
        "outputId": "498708bd-0001-4ae7-9d9f-bb7d78bcc1a0"
      },
      "outputs": [
        {
          "output_type": "stream",
          "name": "stdout",
          "text": [
            "11820 739\n",
            "Train Epoch: 1 [160/11820 (1%)]\tLoss: 4.021058\n",
            "Train Epoch: 1 [320/11820 (3%)]\tLoss: 4.751699\n",
            "Train Epoch: 1 [480/11820 (4%)]\tLoss: 4.227847\n",
            "Train Epoch: 1 [640/11820 (5%)]\tLoss: 4.180997\n"
          ]
        },
        {
          "output_type": "stream",
          "name": "stderr",
          "text": [
            "/usr/local/lib/python3.7/dist-packages/PIL/Image.py:960: UserWarning: Palette images with Transparency expressed in bytes should be converted to RGBA images\n",
            "  \"Palette images with Transparency expressed in bytes should be \"\n"
          ]
        },
        {
          "output_type": "stream",
          "name": "stdout",
          "text": [
            "Train Epoch: 1 [800/11820 (7%)]\tLoss: 4.179877\n",
            "Train Epoch: 1 [960/11820 (8%)]\tLoss: 3.818129\n",
            "Train Epoch: 1 [1120/11820 (9%)]\tLoss: 3.616704\n",
            "Train Epoch: 1 [1280/11820 (11%)]\tLoss: 3.390032\n",
            "Train Epoch: 1 [1440/11820 (12%)]\tLoss: 3.609862\n"
          ]
        }
      ],
      "source": [
        "# Define training process\n",
        "\n",
        "def train(model, device, train_loader, optimizer, epoch):\n",
        "    model.train()#set the mode to train mode, not actually training using this function\n",
        "    sum_loss = 0\n",
        "    total_num = len(train_loader.dataset)\n",
        "    print(total_num, len(train_loader))\n",
        "    for batch_idx, (data, target) in enumerate(train_loader):#enumrate is a counter for the loop\n",
        "        data, target = Variable(data).to(device), Variable(target).to(device)#send data\n",
        "        output = model(data)\n",
        "        loss = criterion(output, target)\n",
        "        optimizer.zero_grad()\n",
        "        loss.backward()\n",
        "        optimizer.step()\n",
        "        print_loss = loss.data.item()\n",
        "        sum_loss += print_loss\n",
        "        if (batch_idx + 1) % 10 == 0:\n",
        "            print('Train Epoch: {} [{}/{} ({:.0f}%)]\\tLoss: {:.6f}'.format(\n",
        "                epoch, (batch_idx + 1) * len(data), len(train_loader.dataset),\n",
        "                       100. * (batch_idx + 1) / len(train_loader), loss.item()))\n",
        "    ave_loss = sum_loss / len(train_loader)\n",
        "    print('epoch:{},loss:{}'.format(epoch, ave_loss))\n",
        "\n",
        "\n",
        "# Verification process\n",
        "def val(model, device, test_loader):\n",
        "    model.eval()\n",
        "    test_loss = 0\n",
        "    correct = 0\n",
        "    total_num = len(test_loader.dataset)\n",
        "    print(total_num, len(test_loader))\n",
        "    with torch.no_grad():\n",
        "        for data, target in test_loader:\n",
        "            data, target = Variable(data).to(device), Variable(target).to(device)\n",
        "            output = model(data)\n",
        "            loss = criterion(output, target)\n",
        "            _, pred = torch.max(output.data, 1)\n",
        "            correct += torch.sum(pred == target)\n",
        "            print_loss = loss.data.item()\n",
        "            test_loss += print_loss\n",
        "        correct = correct.data.item()\n",
        "        acc = correct / total_num\n",
        "        avgloss = test_loss / len(test_loader)\n",
        "        print('\\nVal set: Average loss: {:.4f}, Accuracy: {}/{} ({:.0f}%)\\n'.format(\n",
        "            avgloss, correct, len(test_loader.dataset), 100 * acc))\n",
        "\n",
        "\n",
        "# train\n",
        "\n",
        "for epoch in range(1, EPOCHS + 1):\n",
        "    train(model_ft, DEVICE, train_loader, optimizer, epoch)\n",
        "    cosine_schedule.step()\n",
        "    val(model_ft, DEVICE, test_loader)\n"
      ]
    },
    {
      "cell_type": "code",
      "execution_count": null,
      "metadata": {
        "id": "_IayLZyd8JEz"
      },
      "outputs": [],
      "source": [
        "torch.save(model_ft, 'model.pth')"
      ]
    },
    {
      "cell_type": "markdown",
      "metadata": {
        "id": "0I4KGuLZ3h_M"
      },
      "source": [
        "Test"
      ]
    },
    {
      "cell_type": "code",
      "execution_count": null,
      "metadata": {
        "id": "rUk-Aq0o3jmj"
      },
      "outputs": [],
      "source": [
        "classes = ('alpine_sea_holly', 'alstroemeria', 'amaranth', 'amaryllis', 'ammi', 'anemone', \n",
        "          'anthurium', 'antirrhinum', 'artichoke', 'asian virginsbower', 'aster',\n",
        "          'astilbe', 'astrantia', 'ball moss', 'ballon flower', 'barbeton daisy',\n",
        "          'bird of paradise', 'black-eye', 'bluebell', 'bougainvillea', 'bouvardia',\n",
        "          'brassica', 'buttercup', 'california poppy', 'calla', 'canna lily',\n",
        "          'carnation', 'celosia', 'chamelaucium', 'chamomile', 'chrysanthemum',\n",
        "          'colts_foot', 'columbine', 'cotton', 'cowslip', 'craspedia',\n",
        "          'crocus', 'cyclamen', 'daffodil', 'dahlia', 'daisy',\n",
        "          'dandelion', 'delphinium', 'eryngium', 'eustoma', 'forget-me-not',\n",
        "          'foxglove', 'frangipani', 'freesia', 'fritillary', 'garden phlox',\n",
        "          'gerbera', 'gladiolus', 'globe thistle', 'gypsophila', 'hyacinth',\n",
        "          'hydrangea', 'hypericum', 'iris', 'lavender', 'leucadendron',\n",
        "          'leucospermum', 'lilac', 'lily', 'lily_of_the_valley', 'lily_valley',\n",
        "          'limonium', 'lotus', 'love in the mist', 'mattiola', 'mimosa',\n",
        "          'morning glory', 'muscari', 'narcissus', 'nelumbo nucifera', 'orchid',\n",
        "          'ornithogalum', 'oxeye daisy', 'oxypetalum', 'ozotamnus', 'pansy',\n",
        "          'passion flower', 'peony', 'petunia', 'poinsettia', 'protea',\n",
        "          'ranunculus', 'rose', 'sedum', 'silverbush', 'skimmia',\n",
        "          'snowdrop', 'solidago', 'strelitzia', 'sunflower', 'tigerlily',\n",
        "          'trachelium', 'tropical white morning-glory', 'tulip', 'veronica', 'water lily',\n",
        "          'willow', 'windflower')\n",
        "     \n",
        "transform_test = transforms.Compose([\n",
        "    transforms.Resize((224, 224)),\n",
        "    transforms.ToTensor(),\n",
        "    transforms.Normalize([0.5, 0.5, 0.5], [0.5, 0.5, 0.5])\n",
        "])"
      ]
    },
    {
      "cell_type": "code",
      "execution_count": null,
      "metadata": {
        "id": "o3Bl6wuo3l6e"
      },
      "outputs": [],
      "source": [
        "#load the model and put model in DEVICE\n",
        "DEVICE = torch.device(\"cuda:0\" if torch.cuda.is_available() else \"cpu\")\n",
        "model = torch.load(\"model.pth\")\n",
        "model.eval()\n",
        "model.to(DEVICE)"
      ]
    },
    {
      "cell_type": "code",
      "execution_count": null,
      "metadata": {
        "id": "DVdZvaD73qdG"
      },
      "outputs": [],
      "source": [
        "#Read picture and predict category of picture\n",
        "path = 'drive/MyDrive/195A+BSeniorProjectGroupWorks/Datasets/test(christy)/'\n",
        "testList = os.listdir(path)\n",
        "for file in testList:\n",
        "    img = Image.open(path + file)\n",
        "    img = transform_test(img)\n",
        "    img.unsqueeze_(0)\n",
        "    img = Variable(img).to(DEVICE)\n",
        "    out = model(img)\n",
        "    # Predict\n",
        "    _, pred = torch.max(out.data, 1)\n",
        "    print('Image Name: {}, predict: {}'.format(file, classes[pred.data.item()]))"
      ]
    },
    {
      "cell_type": "code",
      "source": [
        "#Read picture and predict category of picture 2\n",
        "path = 'drive/MyDrive/195A+BSeniorProjectGroupWorks/Datasets/Flower_Dataset/test_set/'\n",
        "testList = os.listdir(path)\n",
        "for file in testList:\n",
        "    img = Image.open(path + file)\n",
        "    img = transform_test(img)\n",
        "    img.unsqueeze_(0)\n",
        "    img = Variable(img).to(DEVICE)\n",
        "    out = model(img)\n",
        "    # Predict\n",
        "    _, pred = torch.max(out.data, 1)\n",
        "    print('Image Name: {}, predict: {}'.format(file, classes[pred.data.item()]))"
      ],
      "metadata": {
        "id": "rCUozSw6IMEQ"
      },
      "execution_count": null,
      "outputs": []
    },
    {
      "cell_type": "code",
      "source": [
        "# Show input and output of a directly uploaded picture\n",
        "from google.colab import files\n",
        "uploaded = files.upload()\n",
        "# Show the image\n",
        "from matplotlib import pyplot as plt\n",
        "input = plt.imread('')\n",
        "img = plt.imshow(input)\n",
        "# Resize the image\n",
        "from skimage.transform import resize\n",
        "resized_img = resize(input, (32,32,3))\n",
        "img = plt.imshow(resized_img)\n",
        "# Get model predictions\n",
        "predictions = model.predict(np.array([resized_img])) \n",
        "# Show the predictions\n",
        "predictions\n",
        "# Sort predictions from least to greatest\n",
        "list_index = [0,1,2,3,4]\n",
        "x = predictions\n",
        "\n",
        "for i in range(5):\n",
        "  for j in range(5):\n",
        "    if x[0][list_index[i]] > x[0][list_index[j]]:\n",
        "      temp = list_index[i]\n",
        "      list_index[i] = list_index[j]\n",
        "      list_index[j] = temp\n",
        "\n",
        "# show the sorted labels in order\n",
        "list_index"
      ],
      "metadata": {
        "id": "sJDwOTuRIe7J"
      },
      "execution_count": null,
      "outputs": []
    },
    {
      "cell_type": "code",
      "execution_count": null,
      "metadata": {
        "id": "HZcDmp0Rtzcg"
      },
      "outputs": [],
      "source": [
        "#!bash"
      ]
    },
    {
      "cell_type": "markdown",
      "metadata": {
        "id": "3qMt3cx24gl9"
      },
      "source": [
        "Note: larger dataset yields worse result\n",
        "Why?\n",
        "*Figure this out and make it a novelty point* \n",
        "\n",
        "Priority: expand dataset"
      ]
    }
  ],
  "metadata": {
    "accelerator": "GPU",
    "colab": {
      "collapsed_sections": [],
      "provenance": [],
      "include_colab_link": true
    },
    "gpuClass": "standard",
    "kernelspec": {
      "display_name": "Python 3",
      "name": "python3"
    },
    "language_info": {
      "name": "python"
    }
  },
  "nbformat": 4,
  "nbformat_minor": 0
}